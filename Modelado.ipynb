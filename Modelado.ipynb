{
 "cells": [
  {
   "cell_type": "markdown",
   "metadata": {},
   "source": [
    "# Modelado de Tópicos"
   ]
  },
  {
   "cell_type": "markdown",
   "metadata": {},
   "source": [
    "* María Alejandra Arango\n",
    "* Cristian Gómez Alvarez <crgomezal@unal.edu.co>\n",
    "* Juan Camilo Cuartas"
   ]
  },
  {
   "cell_type": "markdown",
   "metadata": {},
   "source": [
    "## Método"
   ]
  },
  {
   "cell_type": "markdown",
   "metadata": {
    "collapsed": true
   },
   "source": [
    "### Latent Dirichlet Allocation (LDA)"
   ]
  },
  {
   "cell_type": "markdown",
   "metadata": {},
   "source": [
    "- Clase: Modelos generativos\n",
    "- Tienen un tipo de fábula que explica como los datos fueron generados\n",
    "\n",
    "- Primero se crean los tópicos asignando pesos probables a las palabras\n",
    "- Cada tópico asigna diferentes pesos a diferentes palabras\n",
    "\n",
    "- Modelo de \"bolsa de palabras\"\n"
   ]
  },
  {
   "cell_type": "markdown",
   "metadata": {},
   "source": [
    "Explicación del modelo de Dirichlet (?)"
   ]
  },
  {
   "cell_type": "markdown",
   "metadata": {},
   "source": [
    "## Modelado en Python"
   ]
  },
  {
   "cell_type": "markdown",
   "metadata": {},
   "source": [
    "### Paquete 'gensim'"
   ]
  },
  {
   "cell_type": "markdown",
   "metadata": {},
   "source": [
    "## Modelado en R"
   ]
  },
  {
   "cell_type": "markdown",
   "metadata": {},
   "source": [
    "### Paquete 'topicmodels' - 'stm'"
   ]
  },
  {
   "cell_type": "markdown",
   "metadata": {},
   "source": [
    "Averiguar cuál de los dos utiliza LDA (?)"
   ]
  },
  {
   "cell_type": "markdown",
   "metadata": {},
   "source": [
    "Algoritmo"
   ]
  },
  {
   "cell_type": "markdown",
   "metadata": {},
   "source": [
    "## Ejemplo"
   ]
  },
  {
   "cell_type": "markdown",
   "metadata": {},
   "source": [
    "Modelar esos tópicos chiquitos en "
   ]
  },
  {
   "cell_type": "markdown",
   "metadata": {},
   "source": [
    "## Python"
   ]
  },
  {
   "cell_type": "markdown",
   "metadata": {},
   "source": [
    "Importar corpora y models"
   ]
  },
  {
   "cell_type": "code",
   "execution_count": 3,
   "metadata": {
    "collapsed": true
   },
   "outputs": [],
   "source": [
    "from gensim import corpora, models\n",
    "import matplotlib.pyplot as plt\n",
    "import numpy as np\n",
    "%matplotlib inline"
   ]
  },
  {
   "cell_type": "markdown",
   "metadata": {},
   "source": [
    "Cargar los archivos de datos en la variable corpus. La variable almacena todos los documentos de texto en una forma fácil de procesar"
   ]
  },
  {
   "cell_type": "code",
   "execution_count": 8,
   "metadata": {
    "collapsed": true
   },
   "outputs": [],
   "source": [
    "corpus = corpora.BleiCorpus('datos/ap.dat', 'datos/vocab.txt')"
   ]
  },
  {
   "cell_type": "markdown",
   "metadata": {},
   "source": [
    "Se crea un modelo de temas usando corpus cómo base de información. Información sobre LdaModel se puede encontrar en https://radimrehurek.com/gensim/models/ldamodel.html\n",
    "\n",
    "La llamada de esta función inferirá qué temas están presentes en el corpus (colección de artículos o escritos sobre un tema particular)"
   ]
  },
  {
   "cell_type": "code",
   "execution_count": 9,
   "metadata": {
    "collapsed": false
   },
   "outputs": [
    {
     "name": "stderr",
     "output_type": "stream",
     "text": [
      "WARNING:gensim.models.ldamodel:too few updates, training might not converge; consider increasing the number of passes or iterations to improve accuracy\n"
     ]
    }
   ],
   "source": [
    "modeloTemas = models.ldamodel.LdaModel(corpus, num_topics=100, id2word=corpus.id2word)"
   ]
  },
  {
   "cell_type": "markdown",
   "metadata": {},
   "source": [
    "El modelo puede explorarse de diferentes formas. Utilizando model[doc] se puede ver la lista de temas a las que se refiere un documento.\n",
    "Se visualizan como el Id del tema y la probabilidad que tiene asignada (ningún tema tiene probabilidad 0 pero por aproximación, algunos quedan con 0 y no se muestran)"
   ]
  },
  {
   "cell_type": "code",
   "execution_count": 7,
   "metadata": {
    "collapsed": false
   },
   "outputs": [
    {
     "data": {
      "text/plain": [
       "2246"
      ]
     },
     "execution_count": 7,
     "metadata": {},
     "output_type": "execute_result"
    }
   ],
   "source": [
    "len(corpus)    #Número de documentos en el corpus"
   ]
  },
  {
   "cell_type": "code",
   "execution_count": 62,
   "metadata": {
    "collapsed": false
   },
   "outputs": [
    {
     "name": "stdout",
     "output_type": "stream",
     "text": [
      "[(3, 0.40388559040602212), (11, 0.026856075669584645), (15, 0.18338489661166033), (37, 0.035874296885641241), (41, 0.014952215114180798), (52, 0.052545514027481303), (56, 0.036529919702285966), (75, 0.032924293568477161), (88, 0.012712023601589593), (93, 0.1364492986141754), (96, 0.03361039933981886), (99, 0.010631335443377405)]\n"
     ]
    }
   ],
   "source": [
    "temas = [modeloTemas[c] for c in corpus]\n",
    "print(temas[0])"
   ]
  },
  {
   "cell_type": "code",
   "execution_count": 63,
   "metadata": {
    "collapsed": false
   },
   "outputs": [
    {
     "name": "stdout",
     "output_type": "stream",
     "text": [
      "[(3, 0.40587755061231656), (11, 0.026035214409023684), (15, 0.18302869747223535), (37, 0.035706738452867551), (41, 0.016004722127058901), (52, 0.05498895089327193), (56, 0.036839851200689562), (59, 0.013409955003075041), (75, 0.037197561873838728), (88, 0.012626566575326981), (93, 0.1334255691576286), (96, 0.034560797157502654)]\n"
     ]
    }
   ],
   "source": [
    "# Otra forma de visualizar los temas del primer documento\n",
    "doc=corpus.docbyoffset(0)\n",
    "temasDoc=modeloTemas[doc]\n",
    "print(temasDoc)"
   ]
  },
  {
   "cell_type": "markdown",
   "metadata": {},
   "source": [
    "En el histograma del número de temas usados en el documento, puede visualizarse mejor este hecho"
   ]
  },
  {
   "cell_type": "code",
   "execution_count": 30,
   "metadata": {
    "collapsed": false
   },
   "outputs": [
    {
     "data": {
      "image/png": "[encoded data removed]",
      "text/plain": [
       "<matplotlib.figure.Figure at 0x7fa3ec418240>"
      ]
     },
     "metadata": {},
     "output_type": "display_data"
    }
   ],
   "source": [
    "numTemas = [len(modeloTemas[doc]) for doc in corpus]    #Formar un array con los números de temas de cada documento\n",
    "plt.hist(numTemas)\n",
    "plt.ylabel('Número documentos')\n",
    "plt.xlabel('Número temas')\n",
    "plt.show()"
   ]
  },
  {
   "cell_type": "markdown",
   "metadata": {},
   "source": [
    "El parámetro alpha del constructor de LdaModel define cómo se distribuyen cuántos temas pueden tratarse por documento, tiene un valor entre 0 y 1 y por defecto tiene el valor de 1/num_topics"
   ]
  },
  {
   "cell_type": "code",
   "execution_count": 31,
   "metadata": {
    "collapsed": false
   },
   "outputs": [
    {
     "name": "stderr",
     "output_type": "stream",
     "text": [
      "WARNING:gensim.models.ldamodel:too few updates, training might not converge; consider increasing the number of passes or iterations to improve accuracy\n"
     ]
    }
   ],
   "source": [
    "modeloTemasAlpha=models.ldamodel.LdaModel(corpus, num_topics=100, id2word=corpus.id2word, alpha=1)"
   ]
  },
  {
   "cell_type": "markdown",
   "metadata": {},
   "source": [
    "Al hacer el histograma nuevamente, se encontrará que hay una distribución de temas por documento diferente"
   ]
  },
  {
   "cell_type": "code",
   "execution_count": 34,
   "metadata": {
    "collapsed": false
   },
   "outputs": [
    {
     "data": {
      "image/png": "[encoded data removed]",
      "text/plain": [
       "<matplotlib.figure.Figure at 0x7fa3acf2ac18>"
      ]
     },
     "metadata": {},
     "output_type": "display_data"
    }
   ],
   "source": [
    "numTemasAlpha = [len(modeloTemasAlpha[doc]) for doc in corpus]            #Formar un array con los números de temas de cada documento\n",
    "plt.hist(numTemasAlpha)\n",
    "plt.ylabel('Número documentos')\n",
    "plt.xlabel('Número temas')\n",
    "plt.show()"
   ]
  },
  {
   "cell_type": "markdown",
   "metadata": {},
   "source": [
    "Los temas son distribuciones multinomiales que se hacen sobre las palabras (cada palabra tiene una probabilidad para cada tema y aquellas palabras con mayor probabilidad pertenencen al tema).\n",
    "\n",
    "Mostrar las palabras que conforman el primer tema:"
   ]
  },
  {
   "cell_type": "code",
   "execution_count": 64,
   "metadata": {
    "collapsed": false
   },
   "outputs": [
    {
     "name": "stdout",
     "output_type": "stream",
     "text": [
      "[('ruby', 0.051663868980996855), ('mecham', 0.024315685363037666), ('watkins', 0.018403418716222537), ('gun', 0.011551356149153131), ('milstead', 0.010639651971742128), ('birthday', 0.009477753956222747), ('mayer', 0.0081678926218770216), ('grandfather', 0.0070423882633605678), ('pastor', 0.006762924098240585), ('trial', 0.0063331443157548508), ('baptist', 0.0062086375790862272), ('mechams', 0.0060006571594056757), ('years', 0.0058340813557953468), ('state', 0.0049397930354346878), ('communitys', 0.0044937651734415903), ('disneys', 0.0040767162895099475), ('president', 0.0039931339374073204), ('threat', 0.003904849134783376), ('monday', 0.0038203664222758072), ('subway', 0.0038000708406188523), ('mouse', 0.003727742668668804), ('nephew', 0.0037148273009717249), ('cartoon', 0.0036918864889538996), ('default', 0.0036823737293599479), ('two', 0.0036372023588885152), ('cbs', 0.003541191610819179), ('shores', 0.0034311915275994326), ('yearold', 0.0034099842846692695), ('senators', 0.0032996189852861351), ('transit', 0.0032967990209116999), ('group', 0.0032858159527899117), ('i', 0.0032665951681786569), ('office', 0.0032366873169965477), ('earl', 0.0031760147652104267), ('stabbed', 0.0031190518277760394), ('craft', 0.0030952155356556523), ('people', 0.0030180399551793763), ('integrity', 0.0029992599166795502), ('case', 0.0029908058901328815), ('criminal', 0.0029378081679606394), ('shot', 0.0028845170470723006), ('gave', 0.0028559469095245107), ('ralph', 0.0028523329587422448), ('died', 0.0028033339654462775), ('sunday', 0.0027489986642848948), ('consists', 0.0027315467604561916), ('impeachment', 0.0027298937836656074), ('hes', 0.0026394309058390361), ('ms', 0.0026377720691127243), ('last', 0.0026342496044957343), ('senate', 0.0026314498052738308), ('boys', 0.0026207440810798368), ('public', 0.0026112370246789626), ('republican', 0.0025604964382114708), ('charges', 0.0025518523041297664), ('director', 0.0025142893181506211), ('murder', 0.0025037243266861184), ('walt', 0.0024846371326992084), ('money', 0.0024514320659759208), ('department', 0.0024434526165634969), ('city', 0.002366731727647558), ('remove', 0.0023451105119092026), ('claiming', 0.0023366252095225531), ('didnt', 0.0023265663571943864)]\n"
     ]
    }
   ],
   "source": [
    "palabras=modeloTemas.show_topic(3, 64)\n",
    "print(palabras)"
   ]
  },
  {
   "cell_type": "markdown",
   "metadata": {},
   "source": [
    "#### Comparación de documentos por temas"
   ]
  },
  {
   "cell_type": "markdown",
   "metadata": {
    "collapsed": true
   },
   "source": [
    "La clasificación de documentos por temas es un paso intermedio para otro objetivo mayor. Hasta esta parte tenemos un estimado de los temas por los que está compuesto un documento, lo que nos permite comparar documentos en el espacio de temas. El objetivo entonces es pasar de una comparación palabra por palabra a identificar documentos similares determinando si tratan sobre los mismos temas."
   ]
  },
  {
   "cell_type": "markdown",
   "metadata": {
    "collapsed": true
   },
   "source": [
    "Se generan objetos de NumPy con los temas de todos los documentos en el corpus para calcular las distancias entre cada documento"
   ]
  },
  {
   "cell_type": "code",
   "execution_count": 65,
   "metadata": {
    "collapsed": false
   },
   "outputs": [],
   "source": [
    "from gensim import matutils\n",
    "topics = matutils.corpus2dense(modeloTemas[corpus], num_terms=modeloTemas.num_topics)"
   ]
  },
  {
   "cell_type": "markdown",
   "metadata": {
    "collapsed": true
   },
   "source": [
    "topics es una matriz y podemos usar la función pdist de SciPy para calcular las distancias por parejas. Con un llamado a la función, se están calculando todos los valores de sum((topics[ti] – topics[tj])**2):"
   ]
  },
  {
   "cell_type": "code",
   "execution_count": 66,
   "metadata": {
    "collapsed": true
   },
   "outputs": [],
   "source": [
    "from scipy.spatial import distance\n",
    "pairwise = distance.squareform(distance.pdist(topics))"
   ]
  },
  {
   "cell_type": "markdown",
   "metadata": {
    "collapsed": true
   },
   "source": [
    "Ahora se ajusta un poco la matriz de distancias modificando los elementos e la diagonal para que sean más grandes que la distancia más grande. Sin este ajuste, la función a continuación siempre retornaría el mismo documento como el más cercano"
   ]
  },
  {
   "cell_type": "code",
   "execution_count": 67,
   "metadata": {
    "collapsed": true
   },
   "outputs": [],
   "source": [
    "largest = pairwise.max()\n",
    "for ti in range(len(topics)):\n",
    "\tpairwise[ti,ti] = largest+1"
   ]
  },
  {
   "cell_type": "markdown",
   "metadata": {
    "collapsed": true
   },
   "source": [
    "Por último construímos un clasificador de temas por proximidad (distancia más baja). Documentación de NumPy.argmin(): http://docs.scipy.org/doc/numpy-1.10.1/reference/generated/numpy.argmin.html"
   ]
  },
  {
   "cell_type": "code",
   "execution_count": 73,
   "metadata": {
    "collapsed": false
   },
   "outputs": [],
   "source": [
    "def closest_to(doc_id):\n",
    "    closest=pairwise[doc_id].argmin()\n",
    "    return closest\n",
    "    #return [topics[doc_id], topics[closest]]"
   ]
  },
  {
   "cell_type": "markdown",
   "metadata": {},
   "source": [
    "Obtener el documento más parecido a aquel con ID 1:"
   ]
  },
  {
   "cell_type": "code",
   "execution_count": 75,
   "metadata": {
    "collapsed": false
   },
   "outputs": [
    {
     "data": {
      "text/plain": [
       "92"
      ]
     },
     "execution_count": 75,
     "metadata": {},
     "output_type": "execute_result"
    }
   ],
   "source": [
    "closest_to(2)"
   ]
  },
  {
   "cell_type": "markdown",
   "metadata": {},
   "source": [
    "### R"
   ]
  },
  {
   "cell_type": "markdown",
   "metadata": {},
   "source": [
    "## Modelando Wikipedia"
   ]
  },
  {
   "cell_type": "code",
   "execution_count": null,
   "metadata": {
    "collapsed": true
   },
   "outputs": [],
   "source": []
  }
 ],
 "metadata": {
  "kernelspec": {
   "display_name": "Python 3",
   "language": "python",
   "name": "python3"
  },
  "language_info": {
   "codemirror_mode": {
    "name": "ipython",
    "version": 3
   },
   "file_extension": ".py",
   "mimetype": "text/x-python",
   "name": "python",
   "nbconvert_exporter": "python",
   "pygments_lexer": "ipython3",
   "version": "3.5.1"
  }
 },
 "nbformat": 4,
 "nbformat_minor": 0
}
